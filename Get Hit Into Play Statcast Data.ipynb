{
 "cells": [
  {
   "cell_type": "code",
   "execution_count": 1,
   "id": "b2840ed2",
   "metadata": {},
   "outputs": [],
   "source": [
    "from pybaseball_edited import statcast_2\n",
    "import pandas as pd"
   ]
  },
  {
   "cell_type": "code",
   "execution_count": 4,
   "id": "5e625766",
   "metadata": {},
   "outputs": [
    {
     "name": "stdout",
     "output_type": "stream",
     "text": [
      "This is a large query, it may take a moment to complete\n"
     ]
    },
    {
     "name": "stderr",
     "output_type": "stream",
     "text": [
      "  0%|          | 0/2 [00:03<?, ?it/s]\n"
     ]
    },
    {
     "ename": "StatcastException",
     "evalue": "Error: Query Timeout. Please try to limit your query to less data.",
     "output_type": "error",
     "traceback": [
      "\u001B[1;31m---------------------------------------------------------------------------\u001B[0m",
      "\u001B[1;31m_RemoteTraceback\u001B[0m                          Traceback (most recent call last)",
      "\u001B[1;31m_RemoteTraceback\u001B[0m: \n\"\"\"\nTraceback (most recent call last):\n  File \"C:\\Anaconda\\lib\\concurrent\\futures\\process.py\", line 239, in _process_worker\n    r = call_item.fn(*call_item.args, **call_item.kwargs)\n  File \"C:\\Anaconda\\lib\\site-packages\\pybaseball_edited\\cache\\cache.py\", line 58, in _cached\n    result = func(*args, **kwargs)\n  File \"C:\\Anaconda\\lib\\site-packages\\pybaseball_edited\\statcast.py\", line 58, in _small_request_2\n    raise StatcastException(data['error'].values[0])\npybaseball_edited.statcast.StatcastException: Error: Query Timeout. Please try to limit your query to less data.\n\"\"\"",
      "\nThe above exception was the direct cause of the following exception:\n",
      "\u001B[1;31mStatcastException\u001B[0m                         Traceback (most recent call last)",
      "\u001B[1;32m<ipython-input-4-6988a3b56739>\u001B[0m in \u001B[0;36m<module>\u001B[1;34m\u001B[0m\n\u001B[0;32m      1\u001B[0m \u001B[1;31m#df = pd.DataFrame(statcast_2(start_dt='2021-04-01', end_dt='2021-11-02',pull='bip'))\u001B[0m\u001B[1;33m\u001B[0m\u001B[1;33m\u001B[0m\u001B[1;33m\u001B[0m\u001B[0m\n\u001B[1;32m----> 2\u001B[1;33m \u001B[0mdf\u001B[0m \u001B[1;33m=\u001B[0m \u001B[0mpd\u001B[0m\u001B[1;33m.\u001B[0m\u001B[0mDataFrame\u001B[0m\u001B[1;33m(\u001B[0m\u001B[0mstatcast_2\u001B[0m\u001B[1;33m(\u001B[0m\u001B[0mstart_dt\u001B[0m\u001B[1;33m=\u001B[0m\u001B[1;34m'2021-04-01'\u001B[0m\u001B[1;33m,\u001B[0m \u001B[0mend_dt\u001B[0m\u001B[1;33m=\u001B[0m\u001B[1;34m'2021-04-02'\u001B[0m\u001B[1;33m,\u001B[0m\u001B[0mpull\u001B[0m\u001B[1;33m=\u001B[0m\u001B[1;34m'lp'\u001B[0m\u001B[1;33m)\u001B[0m\u001B[1;33m)\u001B[0m\u001B[1;33m\u001B[0m\u001B[1;33m\u001B[0m\u001B[0m\n\u001B[0m",
      "\u001B[1;32mC:\\Anaconda\\lib\\site-packages\\pybaseball_edited\\statcast.py\u001B[0m in \u001B[0;36mstatcast_2\u001B[1;34m(start_dt, end_dt, team, verbose, parallel, pull)\u001B[0m\n\u001B[0;32m    209\u001B[0m \u001B[1;33m\u001B[0m\u001B[0m\n\u001B[0;32m    210\u001B[0m     \u001B[0mstart_dt_date\u001B[0m\u001B[1;33m,\u001B[0m \u001B[0mend_dt_date\u001B[0m \u001B[1;33m=\u001B[0m \u001B[0msanitize_date_range\u001B[0m\u001B[1;33m(\u001B[0m\u001B[0mstart_dt\u001B[0m\u001B[1;33m,\u001B[0m \u001B[0mend_dt\u001B[0m\u001B[1;33m)\u001B[0m\u001B[1;33m\u001B[0m\u001B[1;33m\u001B[0m\u001B[0m\n\u001B[1;32m--> 211\u001B[1;33m     \u001B[1;32mreturn\u001B[0m \u001B[0m_handle_request_2\u001B[0m\u001B[1;33m(\u001B[0m\u001B[0mpull\u001B[0m\u001B[1;33m,\u001B[0m \u001B[0mstart_dt_date\u001B[0m\u001B[1;33m,\u001B[0m \u001B[0mend_dt_date\u001B[0m\u001B[1;33m,\u001B[0m \u001B[1;36m1\u001B[0m\u001B[1;33m,\u001B[0m \u001B[0mverbose\u001B[0m\u001B[1;33m=\u001B[0m\u001B[0mverbose\u001B[0m\u001B[1;33m,\u001B[0m \u001B[0mteam\u001B[0m\u001B[1;33m=\u001B[0m\u001B[0mteam\u001B[0m\u001B[1;33m,\u001B[0m \u001B[0mparallel\u001B[0m\u001B[1;33m=\u001B[0m\u001B[0mparallel\u001B[0m\u001B[1;33m)\u001B[0m\u001B[1;33m\u001B[0m\u001B[1;33m\u001B[0m\u001B[0m\n\u001B[0m",
      "\u001B[1;32mC:\\Anaconda\\lib\\site-packages\\pybaseball_edited\\statcast.py\u001B[0m in \u001B[0;36m_handle_request_2\u001B[1;34m(pull, start_dt, end_dt, step, verbose, team, parallel)\u001B[0m\n\u001B[0;32m    140\u001B[0m                         for subq_start, subq_end in date_range}\n\u001B[0;32m    141\u001B[0m                 \u001B[1;32mfor\u001B[0m \u001B[0mfuture\u001B[0m \u001B[1;32min\u001B[0m \u001B[0mconcurrent\u001B[0m\u001B[1;33m.\u001B[0m\u001B[0mfutures\u001B[0m\u001B[1;33m.\u001B[0m\u001B[0mas_completed\u001B[0m\u001B[1;33m(\u001B[0m\u001B[0mfutures\u001B[0m\u001B[1;33m)\u001B[0m\u001B[1;33m:\u001B[0m\u001B[1;33m\u001B[0m\u001B[1;33m\u001B[0m\u001B[0m\n\u001B[1;32m--> 142\u001B[1;33m                     \u001B[0mdataframe_list\u001B[0m\u001B[1;33m.\u001B[0m\u001B[0mappend\u001B[0m\u001B[1;33m(\u001B[0m\u001B[0mfuture\u001B[0m\u001B[1;33m.\u001B[0m\u001B[0mresult\u001B[0m\u001B[1;33m(\u001B[0m\u001B[1;33m)\u001B[0m\u001B[1;33m)\u001B[0m\u001B[1;33m\u001B[0m\u001B[1;33m\u001B[0m\u001B[0m\n\u001B[0m\u001B[0;32m    143\u001B[0m                     \u001B[0mprogress\u001B[0m\u001B[1;33m.\u001B[0m\u001B[0mupdate\u001B[0m\u001B[1;33m(\u001B[0m\u001B[1;36m1\u001B[0m\u001B[1;33m)\u001B[0m\u001B[1;33m\u001B[0m\u001B[1;33m\u001B[0m\u001B[0m\n\u001B[0;32m    144\u001B[0m         \u001B[1;32melse\u001B[0m\u001B[1;33m:\u001B[0m\u001B[1;33m\u001B[0m\u001B[1;33m\u001B[0m\u001B[0m\n",
      "\u001B[1;32mC:\\Anaconda\\lib\\concurrent\\futures\\_base.py\u001B[0m in \u001B[0;36mresult\u001B[1;34m(self, timeout)\u001B[0m\n\u001B[0;32m    430\u001B[0m                 \u001B[1;32mraise\u001B[0m \u001B[0mCancelledError\u001B[0m\u001B[1;33m(\u001B[0m\u001B[1;33m)\u001B[0m\u001B[1;33m\u001B[0m\u001B[1;33m\u001B[0m\u001B[0m\n\u001B[0;32m    431\u001B[0m             \u001B[1;32melif\u001B[0m \u001B[0mself\u001B[0m\u001B[1;33m.\u001B[0m\u001B[0m_state\u001B[0m \u001B[1;33m==\u001B[0m \u001B[0mFINISHED\u001B[0m\u001B[1;33m:\u001B[0m\u001B[1;33m\u001B[0m\u001B[1;33m\u001B[0m\u001B[0m\n\u001B[1;32m--> 432\u001B[1;33m                 \u001B[1;32mreturn\u001B[0m \u001B[0mself\u001B[0m\u001B[1;33m.\u001B[0m\u001B[0m__get_result\u001B[0m\u001B[1;33m(\u001B[0m\u001B[1;33m)\u001B[0m\u001B[1;33m\u001B[0m\u001B[1;33m\u001B[0m\u001B[0m\n\u001B[0m\u001B[0;32m    433\u001B[0m \u001B[1;33m\u001B[0m\u001B[0m\n\u001B[0;32m    434\u001B[0m             \u001B[0mself\u001B[0m\u001B[1;33m.\u001B[0m\u001B[0m_condition\u001B[0m\u001B[1;33m.\u001B[0m\u001B[0mwait\u001B[0m\u001B[1;33m(\u001B[0m\u001B[0mtimeout\u001B[0m\u001B[1;33m)\u001B[0m\u001B[1;33m\u001B[0m\u001B[1;33m\u001B[0m\u001B[0m\n",
      "\u001B[1;32mC:\\Anaconda\\lib\\concurrent\\futures\\_base.py\u001B[0m in \u001B[0;36m__get_result\u001B[1;34m(self)\u001B[0m\n\u001B[0;32m    386\u001B[0m     \u001B[1;32mdef\u001B[0m \u001B[0m__get_result\u001B[0m\u001B[1;33m(\u001B[0m\u001B[0mself\u001B[0m\u001B[1;33m)\u001B[0m\u001B[1;33m:\u001B[0m\u001B[1;33m\u001B[0m\u001B[1;33m\u001B[0m\u001B[0m\n\u001B[0;32m    387\u001B[0m         \u001B[1;32mif\u001B[0m \u001B[0mself\u001B[0m\u001B[1;33m.\u001B[0m\u001B[0m_exception\u001B[0m\u001B[1;33m:\u001B[0m\u001B[1;33m\u001B[0m\u001B[1;33m\u001B[0m\u001B[0m\n\u001B[1;32m--> 388\u001B[1;33m             \u001B[1;32mraise\u001B[0m \u001B[0mself\u001B[0m\u001B[1;33m.\u001B[0m\u001B[0m_exception\u001B[0m\u001B[1;33m\u001B[0m\u001B[1;33m\u001B[0m\u001B[0m\n\u001B[0m\u001B[0;32m    389\u001B[0m         \u001B[1;32melse\u001B[0m\u001B[1;33m:\u001B[0m\u001B[1;33m\u001B[0m\u001B[1;33m\u001B[0m\u001B[0m\n\u001B[0;32m    390\u001B[0m             \u001B[1;32mreturn\u001B[0m \u001B[0mself\u001B[0m\u001B[1;33m.\u001B[0m\u001B[0m_result\u001B[0m\u001B[1;33m\u001B[0m\u001B[1;33m\u001B[0m\u001B[0m\n",
      "\u001B[1;31mStatcastException\u001B[0m: Error: Query Timeout. Please try to limit your query to less data."
     ]
    }
   ],
   "source": [
    "#df = pd.DataFrame(statcast_2(start_dt='2021-04-01', end_dt='2021-11-02',pull='bip'))\n",
    "df = pd.DataFrame(statcast_2(start_dt='2021-04-01', end_dt='2021-04-02',pull='lp'))"
   ]
  },
  {
   "cell_type": "code",
   "execution_count": 3,
   "id": "3c061734",
   "metadata": {},
   "outputs": [
    {
     "data": {
      "text/plain": "    pitch_type  game_date  release_speed  release_pos_x  release_pos_z  \\\n352         SL 2021-04-02           83.2           2.66           4.85   \n673         SI 2021-04-02           94.3            2.7            4.9   \n134         SI 2021-04-02           94.8           2.65            5.0   \n132         FF 2021-04-02           96.9          -1.38           5.63   \n295         FF 2021-04-02           96.3          -1.28           5.77   \n462         FF 2021-04-02           95.4          -1.35           5.82   \n632         SL 2021-04-02           86.1          -1.35           5.65   \n48          SI 2021-04-02           91.7           2.58           5.59   \n44          FF 2021-04-02           91.7           2.65           5.75   \n151         FF 2021-04-02           92.1           2.46           5.74   \n474         CH 2021-04-02           84.2           2.78           5.65   \n200         FF 2021-04-02           95.6          -1.95           5.95   \n425         FF 2021-04-02           95.9          -2.07           5.92   \n387         FF 2021-04-02           96.9          -2.19           5.98   \n95          SL 2021-04-02           85.7          -2.38           5.81   \n165         FF 2021-04-02           94.8          -2.04           5.94   \n438         FF 2021-04-02           95.3          -2.26           5.93   \n649         FF 2021-04-02           91.1            2.7           5.53   \n301         CH 2021-04-02           83.3           2.76           5.51   \n553         CH 2021-04-02           84.3           2.86           5.62   \n\n           player_name  batter  pitcher       events    description  ...  \\\n352      Tapia, Raimel  606132   624647    field_out  hit_into_play  ...   \n673         Nuñez, Dom  624513   624647    field_out  hit_into_play  ...   \n134         Nuñez, Dom  624513   624647          NaN           foul  ...   \n132      Seager, Corey  608369   642068    field_out  hit_into_play  ...   \n295      Betts, Mookie  605141   642068    field_out  hit_into_play  ...   \n462      Betts, Mookie  605141   642068          NaN           foul  ...   \n632        Beaty, Matt  607461   642068    field_out  hit_into_play  ...   \n48    Hampson, Garrett  641658   456034  double_play  hit_into_play  ...   \n44       McMahon, Ryan  641857   456034       single  hit_into_play  ...   \n151      McMahon, Ryan  641857   456034          NaN           foul  ...   \n474         Cron, C.J.  543068   456034    field_out  hit_into_play  ...   \n200         Lux, Gavin  666158   608032    field_out  hit_into_play  ...   \n425        Pollock, AJ  572041   608032          NaN           foul  ...   \n387        Pollock, AJ  572041   608032          NaN           foul  ...   \n95         Smith, Will  669257   608032      sac_fly  hit_into_play  ...   \n165    Bellinger, Cody  641355   608032       triple  hit_into_play  ...   \n438    Bellinger, Cody  641355   608032          NaN           foul  ...   \n649  Blackmon, Charlie  453568   456034          NaN           foul  ...   \n301      Story, Trevor  596115   456034       single  hit_into_play  ...   \n553    Fuentes, Joshua  658069   456034          NaN           foul  ...   \n\n     fld_score  post_away_score  post_home_score  post_bat_score  \\\n352         11               11                6               6   \n673         11               11                6               6   \n134         11               11                6               6   \n132          6               11                6              11   \n295          6               11                6              11   \n462          6               11                6              11   \n632          6               11                6              11   \n48          11               11                6               6   \n44          11               11                6               6   \n151         11               11                6               6   \n474         11               11                6               6   \n200          6               11                6              11   \n425          6               11                6              11   \n387          6               11                6              11   \n95           6               11                6              11   \n165          6               10                6              10   \n438          6               10                6              10   \n649         10               10                6               6   \n301         10               10                6               6   \n553         10               10                6               6   \n\n     post_fld_score if_fielding_alignment of_fielding_alignment spin_axis  \\\n352              11              Standard             Strategic       313   \n673              11              Standard              Standard       114   \n134              11              Standard              Standard       118   \n132               6         Infield shift              Standard       204   \n295               6              Standard              Standard       195   \n462               6              Standard              Standard       199   \n632               6         Infield shift              Standard       251   \n48               11         Infield shift              Standard       135   \n44               11         Infield shift             Strategic       130   \n151              11              Standard             Strategic       140   \n474              11         Infield shift              Standard       114   \n200               6         Infield shift              Standard       205   \n425               6              Standard              Standard       206   \n387               6              Standard              Standard       204   \n95                6             Strategic              Standard       111   \n165               6         Infield shift              Standard       207   \n438               6         Infield shift              Standard       206   \n649              10         Infield shift              Standard       134   \n301              10         Infield shift              Standard       111   \n553              10         Infield shift              Standard       110   \n\n    delta_home_win_exp delta_run_exp  \n352                0.0        -0.103  \n673             -0.005        -0.395  \n134                0.0        -0.038  \n132              0.001        -0.119  \n295                0.0        -0.212  \n462                0.0        -0.065  \n632              0.001        -0.231  \n48              -0.014          -0.5  \n44               0.008         0.311  \n151                0.0        -0.043  \n474             -0.007        -0.279  \n200              0.001        -0.263  \n425                0.0        -0.064  \n387                0.0        -0.049  \n95              -0.001         -0.42  \n165             -0.014         0.851  \n438                0.0        -0.067  \n649                0.0        -0.116  \n301              0.016         0.239  \n553                0.0        -0.086  \n\n[20 rows x 92 columns]",
      "text/html": "<div>\n<style scoped>\n    .dataframe tbody tr th:only-of-type {\n        vertical-align: middle;\n    }\n\n    .dataframe tbody tr th {\n        vertical-align: top;\n    }\n\n    .dataframe thead th {\n        text-align: right;\n    }\n</style>\n<table border=\"1\" class=\"dataframe\">\n  <thead>\n    <tr style=\"text-align: right;\">\n      <th></th>\n      <th>pitch_type</th>\n      <th>game_date</th>\n      <th>release_speed</th>\n      <th>release_pos_x</th>\n      <th>release_pos_z</th>\n      <th>player_name</th>\n      <th>batter</th>\n      <th>pitcher</th>\n      <th>events</th>\n      <th>description</th>\n      <th>...</th>\n      <th>fld_score</th>\n      <th>post_away_score</th>\n      <th>post_home_score</th>\n      <th>post_bat_score</th>\n      <th>post_fld_score</th>\n      <th>if_fielding_alignment</th>\n      <th>of_fielding_alignment</th>\n      <th>spin_axis</th>\n      <th>delta_home_win_exp</th>\n      <th>delta_run_exp</th>\n    </tr>\n  </thead>\n  <tbody>\n    <tr>\n      <th>352</th>\n      <td>SL</td>\n      <td>2021-04-02</td>\n      <td>83.2</td>\n      <td>2.66</td>\n      <td>4.85</td>\n      <td>Tapia, Raimel</td>\n      <td>606132</td>\n      <td>624647</td>\n      <td>field_out</td>\n      <td>hit_into_play</td>\n      <td>...</td>\n      <td>11</td>\n      <td>11</td>\n      <td>6</td>\n      <td>6</td>\n      <td>11</td>\n      <td>Standard</td>\n      <td>Strategic</td>\n      <td>313</td>\n      <td>0.0</td>\n      <td>-0.103</td>\n    </tr>\n    <tr>\n      <th>673</th>\n      <td>SI</td>\n      <td>2021-04-02</td>\n      <td>94.3</td>\n      <td>2.7</td>\n      <td>4.9</td>\n      <td>Nuñez, Dom</td>\n      <td>624513</td>\n      <td>624647</td>\n      <td>field_out</td>\n      <td>hit_into_play</td>\n      <td>...</td>\n      <td>11</td>\n      <td>11</td>\n      <td>6</td>\n      <td>6</td>\n      <td>11</td>\n      <td>Standard</td>\n      <td>Standard</td>\n      <td>114</td>\n      <td>-0.005</td>\n      <td>-0.395</td>\n    </tr>\n    <tr>\n      <th>134</th>\n      <td>SI</td>\n      <td>2021-04-02</td>\n      <td>94.8</td>\n      <td>2.65</td>\n      <td>5.0</td>\n      <td>Nuñez, Dom</td>\n      <td>624513</td>\n      <td>624647</td>\n      <td>NaN</td>\n      <td>foul</td>\n      <td>...</td>\n      <td>11</td>\n      <td>11</td>\n      <td>6</td>\n      <td>6</td>\n      <td>11</td>\n      <td>Standard</td>\n      <td>Standard</td>\n      <td>118</td>\n      <td>0.0</td>\n      <td>-0.038</td>\n    </tr>\n    <tr>\n      <th>132</th>\n      <td>FF</td>\n      <td>2021-04-02</td>\n      <td>96.9</td>\n      <td>-1.38</td>\n      <td>5.63</td>\n      <td>Seager, Corey</td>\n      <td>608369</td>\n      <td>642068</td>\n      <td>field_out</td>\n      <td>hit_into_play</td>\n      <td>...</td>\n      <td>6</td>\n      <td>11</td>\n      <td>6</td>\n      <td>11</td>\n      <td>6</td>\n      <td>Infield shift</td>\n      <td>Standard</td>\n      <td>204</td>\n      <td>0.001</td>\n      <td>-0.119</td>\n    </tr>\n    <tr>\n      <th>295</th>\n      <td>FF</td>\n      <td>2021-04-02</td>\n      <td>96.3</td>\n      <td>-1.28</td>\n      <td>5.77</td>\n      <td>Betts, Mookie</td>\n      <td>605141</td>\n      <td>642068</td>\n      <td>field_out</td>\n      <td>hit_into_play</td>\n      <td>...</td>\n      <td>6</td>\n      <td>11</td>\n      <td>6</td>\n      <td>11</td>\n      <td>6</td>\n      <td>Standard</td>\n      <td>Standard</td>\n      <td>195</td>\n      <td>0.0</td>\n      <td>-0.212</td>\n    </tr>\n    <tr>\n      <th>462</th>\n      <td>FF</td>\n      <td>2021-04-02</td>\n      <td>95.4</td>\n      <td>-1.35</td>\n      <td>5.82</td>\n      <td>Betts, Mookie</td>\n      <td>605141</td>\n      <td>642068</td>\n      <td>NaN</td>\n      <td>foul</td>\n      <td>...</td>\n      <td>6</td>\n      <td>11</td>\n      <td>6</td>\n      <td>11</td>\n      <td>6</td>\n      <td>Standard</td>\n      <td>Standard</td>\n      <td>199</td>\n      <td>0.0</td>\n      <td>-0.065</td>\n    </tr>\n    <tr>\n      <th>632</th>\n      <td>SL</td>\n      <td>2021-04-02</td>\n      <td>86.1</td>\n      <td>-1.35</td>\n      <td>5.65</td>\n      <td>Beaty, Matt</td>\n      <td>607461</td>\n      <td>642068</td>\n      <td>field_out</td>\n      <td>hit_into_play</td>\n      <td>...</td>\n      <td>6</td>\n      <td>11</td>\n      <td>6</td>\n      <td>11</td>\n      <td>6</td>\n      <td>Infield shift</td>\n      <td>Standard</td>\n      <td>251</td>\n      <td>0.001</td>\n      <td>-0.231</td>\n    </tr>\n    <tr>\n      <th>48</th>\n      <td>SI</td>\n      <td>2021-04-02</td>\n      <td>91.7</td>\n      <td>2.58</td>\n      <td>5.59</td>\n      <td>Hampson, Garrett</td>\n      <td>641658</td>\n      <td>456034</td>\n      <td>double_play</td>\n      <td>hit_into_play</td>\n      <td>...</td>\n      <td>11</td>\n      <td>11</td>\n      <td>6</td>\n      <td>6</td>\n      <td>11</td>\n      <td>Infield shift</td>\n      <td>Standard</td>\n      <td>135</td>\n      <td>-0.014</td>\n      <td>-0.5</td>\n    </tr>\n    <tr>\n      <th>44</th>\n      <td>FF</td>\n      <td>2021-04-02</td>\n      <td>91.7</td>\n      <td>2.65</td>\n      <td>5.75</td>\n      <td>McMahon, Ryan</td>\n      <td>641857</td>\n      <td>456034</td>\n      <td>single</td>\n      <td>hit_into_play</td>\n      <td>...</td>\n      <td>11</td>\n      <td>11</td>\n      <td>6</td>\n      <td>6</td>\n      <td>11</td>\n      <td>Infield shift</td>\n      <td>Strategic</td>\n      <td>130</td>\n      <td>0.008</td>\n      <td>0.311</td>\n    </tr>\n    <tr>\n      <th>151</th>\n      <td>FF</td>\n      <td>2021-04-02</td>\n      <td>92.1</td>\n      <td>2.46</td>\n      <td>5.74</td>\n      <td>McMahon, Ryan</td>\n      <td>641857</td>\n      <td>456034</td>\n      <td>NaN</td>\n      <td>foul</td>\n      <td>...</td>\n      <td>11</td>\n      <td>11</td>\n      <td>6</td>\n      <td>6</td>\n      <td>11</td>\n      <td>Standard</td>\n      <td>Strategic</td>\n      <td>140</td>\n      <td>0.0</td>\n      <td>-0.043</td>\n    </tr>\n    <tr>\n      <th>474</th>\n      <td>CH</td>\n      <td>2021-04-02</td>\n      <td>84.2</td>\n      <td>2.78</td>\n      <td>5.65</td>\n      <td>Cron, C.J.</td>\n      <td>543068</td>\n      <td>456034</td>\n      <td>field_out</td>\n      <td>hit_into_play</td>\n      <td>...</td>\n      <td>11</td>\n      <td>11</td>\n      <td>6</td>\n      <td>6</td>\n      <td>11</td>\n      <td>Infield shift</td>\n      <td>Standard</td>\n      <td>114</td>\n      <td>-0.007</td>\n      <td>-0.279</td>\n    </tr>\n    <tr>\n      <th>200</th>\n      <td>FF</td>\n      <td>2021-04-02</td>\n      <td>95.6</td>\n      <td>-1.95</td>\n      <td>5.95</td>\n      <td>Lux, Gavin</td>\n      <td>666158</td>\n      <td>608032</td>\n      <td>field_out</td>\n      <td>hit_into_play</td>\n      <td>...</td>\n      <td>6</td>\n      <td>11</td>\n      <td>6</td>\n      <td>11</td>\n      <td>6</td>\n      <td>Infield shift</td>\n      <td>Standard</td>\n      <td>205</td>\n      <td>0.001</td>\n      <td>-0.263</td>\n    </tr>\n    <tr>\n      <th>425</th>\n      <td>FF</td>\n      <td>2021-04-02</td>\n      <td>95.9</td>\n      <td>-2.07</td>\n      <td>5.92</td>\n      <td>Pollock, AJ</td>\n      <td>572041</td>\n      <td>608032</td>\n      <td>NaN</td>\n      <td>foul</td>\n      <td>...</td>\n      <td>6</td>\n      <td>11</td>\n      <td>6</td>\n      <td>11</td>\n      <td>6</td>\n      <td>Standard</td>\n      <td>Standard</td>\n      <td>206</td>\n      <td>0.0</td>\n      <td>-0.064</td>\n    </tr>\n    <tr>\n      <th>387</th>\n      <td>FF</td>\n      <td>2021-04-02</td>\n      <td>96.9</td>\n      <td>-2.19</td>\n      <td>5.98</td>\n      <td>Pollock, AJ</td>\n      <td>572041</td>\n      <td>608032</td>\n      <td>NaN</td>\n      <td>foul</td>\n      <td>...</td>\n      <td>6</td>\n      <td>11</td>\n      <td>6</td>\n      <td>11</td>\n      <td>6</td>\n      <td>Standard</td>\n      <td>Standard</td>\n      <td>204</td>\n      <td>0.0</td>\n      <td>-0.049</td>\n    </tr>\n    <tr>\n      <th>95</th>\n      <td>SL</td>\n      <td>2021-04-02</td>\n      <td>85.7</td>\n      <td>-2.38</td>\n      <td>5.81</td>\n      <td>Smith, Will</td>\n      <td>669257</td>\n      <td>608032</td>\n      <td>sac_fly</td>\n      <td>hit_into_play</td>\n      <td>...</td>\n      <td>6</td>\n      <td>11</td>\n      <td>6</td>\n      <td>11</td>\n      <td>6</td>\n      <td>Strategic</td>\n      <td>Standard</td>\n      <td>111</td>\n      <td>-0.001</td>\n      <td>-0.42</td>\n    </tr>\n    <tr>\n      <th>165</th>\n      <td>FF</td>\n      <td>2021-04-02</td>\n      <td>94.8</td>\n      <td>-2.04</td>\n      <td>5.94</td>\n      <td>Bellinger, Cody</td>\n      <td>641355</td>\n      <td>608032</td>\n      <td>triple</td>\n      <td>hit_into_play</td>\n      <td>...</td>\n      <td>6</td>\n      <td>10</td>\n      <td>6</td>\n      <td>10</td>\n      <td>6</td>\n      <td>Infield shift</td>\n      <td>Standard</td>\n      <td>207</td>\n      <td>-0.014</td>\n      <td>0.851</td>\n    </tr>\n    <tr>\n      <th>438</th>\n      <td>FF</td>\n      <td>2021-04-02</td>\n      <td>95.3</td>\n      <td>-2.26</td>\n      <td>5.93</td>\n      <td>Bellinger, Cody</td>\n      <td>641355</td>\n      <td>608032</td>\n      <td>NaN</td>\n      <td>foul</td>\n      <td>...</td>\n      <td>6</td>\n      <td>10</td>\n      <td>6</td>\n      <td>10</td>\n      <td>6</td>\n      <td>Infield shift</td>\n      <td>Standard</td>\n      <td>206</td>\n      <td>0.0</td>\n      <td>-0.067</td>\n    </tr>\n    <tr>\n      <th>649</th>\n      <td>FF</td>\n      <td>2021-04-02</td>\n      <td>91.1</td>\n      <td>2.7</td>\n      <td>5.53</td>\n      <td>Blackmon, Charlie</td>\n      <td>453568</td>\n      <td>456034</td>\n      <td>NaN</td>\n      <td>foul</td>\n      <td>...</td>\n      <td>10</td>\n      <td>10</td>\n      <td>6</td>\n      <td>6</td>\n      <td>10</td>\n      <td>Infield shift</td>\n      <td>Standard</td>\n      <td>134</td>\n      <td>0.0</td>\n      <td>-0.116</td>\n    </tr>\n    <tr>\n      <th>301</th>\n      <td>CH</td>\n      <td>2021-04-02</td>\n      <td>83.3</td>\n      <td>2.76</td>\n      <td>5.51</td>\n      <td>Story, Trevor</td>\n      <td>596115</td>\n      <td>456034</td>\n      <td>single</td>\n      <td>hit_into_play</td>\n      <td>...</td>\n      <td>10</td>\n      <td>10</td>\n      <td>6</td>\n      <td>6</td>\n      <td>10</td>\n      <td>Infield shift</td>\n      <td>Standard</td>\n      <td>111</td>\n      <td>0.016</td>\n      <td>0.239</td>\n    </tr>\n    <tr>\n      <th>553</th>\n      <td>CH</td>\n      <td>2021-04-02</td>\n      <td>84.3</td>\n      <td>2.86</td>\n      <td>5.62</td>\n      <td>Fuentes, Joshua</td>\n      <td>658069</td>\n      <td>456034</td>\n      <td>NaN</td>\n      <td>foul</td>\n      <td>...</td>\n      <td>10</td>\n      <td>10</td>\n      <td>6</td>\n      <td>6</td>\n      <td>10</td>\n      <td>Infield shift</td>\n      <td>Standard</td>\n      <td>110</td>\n      <td>0.0</td>\n      <td>-0.086</td>\n    </tr>\n  </tbody>\n</table>\n<p>20 rows × 92 columns</p>\n</div>"
     },
     "execution_count": 3,
     "metadata": {},
     "output_type": "execute_result"
    }
   ],
   "source": [
    "df.head(20)"
   ]
  },
  {
   "cell_type": "code",
   "execution_count": 5,
   "id": "b424db22",
   "metadata": {},
   "outputs": [
    {
     "data": {
      "text/plain": [
       "(235863, 92)"
      ]
     },
     "execution_count": 5,
     "metadata": {},
     "output_type": "execute_result"
    }
   ],
   "source": [
    "df.shape"
   ]
  },
  {
   "cell_type": "code",
   "execution_count": 6,
   "id": "8bf2caee",
   "metadata": {},
   "outputs": [
    {
     "data": {
      "text/plain": [
       "Index(['pitch_type', 'game_date', 'release_speed', 'release_pos_x',\n",
       "       'release_pos_z', 'player_name', 'batter', 'pitcher', 'events',\n",
       "       'description', 'spin_dir', 'spin_rate_deprecated',\n",
       "       'break_angle_deprecated', 'break_length_deprecated', 'zone', 'des',\n",
       "       'game_type', 'stand', 'p_throws', 'home_team', 'away_team', 'type',\n",
       "       'hit_location', 'bb_type', 'balls', 'strikes', 'game_year', 'pfx_x',\n",
       "       'pfx_z', 'plate_x', 'plate_z', 'on_3b', 'on_2b', 'on_1b',\n",
       "       'outs_when_up', 'inning', 'inning_topbot', 'hc_x', 'hc_y',\n",
       "       'tfs_deprecated', 'tfs_zulu_deprecated', 'fielder_2', 'umpire', 'sv_id',\n",
       "       'vx0', 'vy0', 'vz0', 'ax', 'ay', 'az', 'sz_top', 'sz_bot',\n",
       "       'hit_distance_sc', 'launch_speed', 'launch_angle', 'effective_speed',\n",
       "       'release_spin_rate', 'release_extension', 'game_pk', 'pitcher.1',\n",
       "       'fielder_2.1', 'fielder_3', 'fielder_4', 'fielder_5', 'fielder_6',\n",
       "       'fielder_7', 'fielder_8', 'fielder_9', 'release_pos_y',\n",
       "       'estimated_ba_using_speedangle', 'estimated_woba_using_speedangle',\n",
       "       'woba_value', 'woba_denom', 'babip_value', 'iso_value',\n",
       "       'launch_speed_angle', 'at_bat_number', 'pitch_number', 'pitch_name',\n",
       "       'home_score', 'away_score', 'bat_score', 'fld_score', 'post_away_score',\n",
       "       'post_home_score', 'post_bat_score', 'post_fld_score',\n",
       "       'if_fielding_alignment', 'of_fielding_alignment', 'spin_axis',\n",
       "       'delta_home_win_exp', 'delta_run_exp'],\n",
       "      dtype='object')"
      ]
     },
     "execution_count": 6,
     "metadata": {},
     "output_type": "execute_result"
    }
   ],
   "source": [
    "df.columns"
   ]
  },
  {
   "cell_type": "code",
   "execution_count": 16,
   "id": "ecf10086",
   "metadata": {},
   "outputs": [],
   "source": [
    "selected_cols = ['pitch_type', 'game_date', 'player_name', 'batter', 'pitcher', 'events',\n",
    "       'description', 'stand', 'p_throws', 'home_team', 'away_team', 'type',\n",
    "       'hit_location', 'bb_type', 'balls', 'strikes', 'game_year',\n",
    "       'on_3b', 'on_2b', 'on_1b', 'outs_when_up', 'inning', 'inning_topbot', 'hc_x', 'hc_y',\n",
    "       'hit_distance_sc', 'launch_speed', 'launch_angle',\n",
    "       'game_pk', 'estimated_ba_using_speedangle', 'estimated_woba_using_speedangle',\n",
    "       'launch_speed_angle', 'at_bat_number', 'pitch_number', 'pitch_name', 'bat_score', 'fld_score',\n",
    "       'if_fielding_alignment', 'of_fielding_alignment']"
   ]
  },
  {
   "cell_type": "code",
   "execution_count": 17,
   "id": "55f7657e",
   "metadata": {},
   "outputs": [
    {
     "data": {
      "text/html": [
       "<div>\n",
       "<style scoped>\n",
       "    .dataframe tbody tr th:only-of-type {\n",
       "        vertical-align: middle;\n",
       "    }\n",
       "\n",
       "    .dataframe tbody tr th {\n",
       "        vertical-align: top;\n",
       "    }\n",
       "\n",
       "    .dataframe thead th {\n",
       "        text-align: right;\n",
       "    }\n",
       "</style>\n",
       "<table border=\"1\" class=\"dataframe\">\n",
       "  <thead>\n",
       "    <tr style=\"text-align: right;\">\n",
       "      <th></th>\n",
       "      <th>pitch_type</th>\n",
       "      <th>game_date</th>\n",
       "      <th>player_name</th>\n",
       "      <th>batter</th>\n",
       "      <th>pitcher</th>\n",
       "      <th>events</th>\n",
       "      <th>description</th>\n",
       "      <th>stand</th>\n",
       "      <th>p_throws</th>\n",
       "      <th>home_team</th>\n",
       "      <th>...</th>\n",
       "      <th>estimated_ba_using_speedangle</th>\n",
       "      <th>estimated_woba_using_speedangle</th>\n",
       "      <th>launch_speed_angle</th>\n",
       "      <th>at_bat_number</th>\n",
       "      <th>pitch_number</th>\n",
       "      <th>pitch_name</th>\n",
       "      <th>bat_score</th>\n",
       "      <th>fld_score</th>\n",
       "      <th>if_fielding_alignment</th>\n",
       "      <th>of_fielding_alignment</th>\n",
       "    </tr>\n",
       "  </thead>\n",
       "  <tbody>\n",
       "    <tr>\n",
       "      <th>26</th>\n",
       "      <td>FF</td>\n",
       "      <td>2021-11-02</td>\n",
       "      <td>Gurriel, Yuli</td>\n",
       "      <td>493329</td>\n",
       "      <td>519293</td>\n",
       "      <td>field_out</td>\n",
       "      <td>hit_into_play</td>\n",
       "      <td>R</td>\n",
       "      <td>L</td>\n",
       "      <td>HOU</td>\n",
       "      <td>...</td>\n",
       "      <td>0.071</td>\n",
       "      <td>0.064</td>\n",
       "      <td>2</td>\n",
       "      <td>69</td>\n",
       "      <td>3</td>\n",
       "      <td>4-Seam Fastball</td>\n",
       "      <td>0</td>\n",
       "      <td>7</td>\n",
       "      <td>Standard</td>\n",
       "      <td>Standard</td>\n",
       "    </tr>\n",
       "    <tr>\n",
       "      <th>30</th>\n",
       "      <td>FF</td>\n",
       "      <td>2021-11-02</td>\n",
       "      <td>Alvarez, Yordan</td>\n",
       "      <td>670541</td>\n",
       "      <td>519293</td>\n",
       "      <td>field_out</td>\n",
       "      <td>hit_into_play</td>\n",
       "      <td>L</td>\n",
       "      <td>L</td>\n",
       "      <td>HOU</td>\n",
       "      <td>...</td>\n",
       "      <td>0.026</td>\n",
       "      <td>0.046</td>\n",
       "      <td>3</td>\n",
       "      <td>68</td>\n",
       "      <td>6</td>\n",
       "      <td>4-Seam Fastball</td>\n",
       "      <td>0</td>\n",
       "      <td>7</td>\n",
       "      <td>Infield shift</td>\n",
       "      <td>Standard</td>\n",
       "    </tr>\n",
       "    <tr>\n",
       "      <th>28</th>\n",
       "      <td>FF</td>\n",
       "      <td>2021-11-02</td>\n",
       "      <td>Correa, Carlos</td>\n",
       "      <td>621043</td>\n",
       "      <td>519293</td>\n",
       "      <td>field_out</td>\n",
       "      <td>hit_into_play</td>\n",
       "      <td>R</td>\n",
       "      <td>L</td>\n",
       "      <td>HOU</td>\n",
       "      <td>...</td>\n",
       "      <td>0.149</td>\n",
       "      <td>0.182</td>\n",
       "      <td>3</td>\n",
       "      <td>67</td>\n",
       "      <td>4</td>\n",
       "      <td>4-Seam Fastball</td>\n",
       "      <td>0</td>\n",
       "      <td>7</td>\n",
       "      <td>Infield shift</td>\n",
       "      <td>Standard</td>\n",
       "    </tr>\n",
       "    <tr>\n",
       "      <th>8</th>\n",
       "      <td>FF</td>\n",
       "      <td>2021-11-02</td>\n",
       "      <td>Brantley, Michael</td>\n",
       "      <td>488726</td>\n",
       "      <td>519293</td>\n",
       "      <td>single</td>\n",
       "      <td>hit_into_play</td>\n",
       "      <td>L</td>\n",
       "      <td>L</td>\n",
       "      <td>HOU</td>\n",
       "      <td>...</td>\n",
       "      <td>0.871</td>\n",
       "      <td>0.855</td>\n",
       "      <td>4</td>\n",
       "      <td>66</td>\n",
       "      <td>6</td>\n",
       "      <td>4-Seam Fastball</td>\n",
       "      <td>0</td>\n",
       "      <td>7</td>\n",
       "      <td>Infield shift</td>\n",
       "      <td>Standard</td>\n",
       "    </tr>\n",
       "    <tr>\n",
       "      <th>62</th>\n",
       "      <td>CH</td>\n",
       "      <td>2021-11-02</td>\n",
       "      <td>Rosario, Eddie</td>\n",
       "      <td>592696</td>\n",
       "      <td>554340</td>\n",
       "      <td>field_out</td>\n",
       "      <td>hit_into_play</td>\n",
       "      <td>L</td>\n",
       "      <td>R</td>\n",
       "      <td>HOU</td>\n",
       "      <td>...</td>\n",
       "      <td>0.069</td>\n",
       "      <td>0.063</td>\n",
       "      <td>2</td>\n",
       "      <td>65</td>\n",
       "      <td>2</td>\n",
       "      <td>Changeup</td>\n",
       "      <td>7</td>\n",
       "      <td>0</td>\n",
       "      <td>Infield shift</td>\n",
       "      <td>Standard</td>\n",
       "    </tr>\n",
       "  </tbody>\n",
       "</table>\n",
       "<p>5 rows × 39 columns</p>\n",
       "</div>"
      ],
      "text/plain": [
       "   pitch_type  game_date        player_name  batter  pitcher     events  \\\n",
       "26         FF 2021-11-02      Gurriel, Yuli  493329   519293  field_out   \n",
       "30         FF 2021-11-02    Alvarez, Yordan  670541   519293  field_out   \n",
       "28         FF 2021-11-02     Correa, Carlos  621043   519293  field_out   \n",
       "8          FF 2021-11-02  Brantley, Michael  488726   519293     single   \n",
       "62         CH 2021-11-02     Rosario, Eddie  592696   554340  field_out   \n",
       "\n",
       "      description stand p_throws home_team  ... estimated_ba_using_speedangle  \\\n",
       "26  hit_into_play     R        L       HOU  ...                         0.071   \n",
       "30  hit_into_play     L        L       HOU  ...                         0.026   \n",
       "28  hit_into_play     R        L       HOU  ...                         0.149   \n",
       "8   hit_into_play     L        L       HOU  ...                         0.871   \n",
       "62  hit_into_play     L        R       HOU  ...                         0.069   \n",
       "\n",
       "   estimated_woba_using_speedangle  launch_speed_angle at_bat_number  \\\n",
       "26                           0.064                   2            69   \n",
       "30                           0.046                   3            68   \n",
       "28                           0.182                   3            67   \n",
       "8                            0.855                   4            66   \n",
       "62                           0.063                   2            65   \n",
       "\n",
       "    pitch_number       pitch_name  bat_score  fld_score  \\\n",
       "26             3  4-Seam Fastball          0          7   \n",
       "30             6  4-Seam Fastball          0          7   \n",
       "28             4  4-Seam Fastball          0          7   \n",
       "8              6  4-Seam Fastball          0          7   \n",
       "62             2         Changeup          7          0   \n",
       "\n",
       "    if_fielding_alignment  of_fielding_alignment  \n",
       "26               Standard               Standard  \n",
       "30          Infield shift               Standard  \n",
       "28          Infield shift               Standard  \n",
       "8           Infield shift               Standard  \n",
       "62          Infield shift               Standard  \n",
       "\n",
       "[5 rows x 39 columns]"
      ]
     },
     "execution_count": 17,
     "metadata": {},
     "output_type": "execute_result"
    }
   ],
   "source": [
    "df_core_stats = df[selected_cols]\n",
    "df_core_stats = df_core_stats.loc[df['description']=='hit_into_play']\n",
    "df_core_stats.head()"
   ]
  },
  {
   "cell_type": "code",
   "execution_count": 18,
   "id": "b963105d",
   "metadata": {},
   "outputs": [
    {
     "data": {
      "text/plain": [
       "(123150, 39)"
      ]
     },
     "execution_count": 18,
     "metadata": {},
     "output_type": "execute_result"
    }
   ],
   "source": [
    "df_core_stats.shape"
   ]
  },
  {
   "cell_type": "code",
   "execution_count": 19,
   "id": "264501eb",
   "metadata": {},
   "outputs": [],
   "source": [
    "df_core_stats.to_csv('2021_batted_ball_data.csv')"
   ]
  },
  {
   "cell_type": "code",
   "execution_count": null,
   "id": "d5b761ad",
   "metadata": {},
   "outputs": [],
   "source": []
  }
 ],
 "metadata": {
  "kernelspec": {
   "display_name": "Python [conda env:root] *",
   "language": "python",
   "name": "conda-root-py"
  },
  "language_info": {
   "codemirror_mode": {
    "name": "ipython",
    "version": 3
   },
   "file_extension": ".py",
   "mimetype": "text/x-python",
   "name": "python",
   "nbconvert_exporter": "python",
   "pygments_lexer": "ipython3",
   "version": "3.8.8"
  }
 },
 "nbformat": 4,
 "nbformat_minor": 5
}